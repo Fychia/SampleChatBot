{
 "cells": [
  {
   "cell_type": "code",
   "execution_count": 1,
   "metadata": {},
   "outputs": [],
   "source": [
    "!pip install -q -U google-generativeai"
   ]
  },
  {
   "cell_type": "code",
   "execution_count": 2,
   "metadata": {},
   "outputs": [
    {
     "name": "stderr",
     "output_type": "stream",
     "text": [
      "C:\\Users\\Rafael\\AppData\\Local\\Packages\\PythonSoftwareFoundation.Python.3.11_qbz5n2kfra8p0\\LocalCache\\local-packages\\Python311\\site-packages\\tqdm\\auto.py:21: TqdmWarning: IProgress not found. Please update jupyter and ipywidgets. See https://ipywidgets.readthedocs.io/en/stable/user_install.html\n",
      "  from .autonotebook import tqdm as notebook_tqdm\n"
     ]
    }
   ],
   "source": [
    "import google.generativeai as genai\n",
    "\n",
    "from google.colab import userdata \n",
    "api_key = userdata.get('Secret_Key')\n",
    "\n",
    "genai.configure(api_key= api_key)\n",
    "\n",
    "# GOOGLE_API_KEY = \"Enter your api key\"\n",
    "# genai.configure(api_key= GOOGLE_API_KEY)"
   ]
  },
  {
   "cell_type": "code",
   "execution_count": 3,
   "metadata": {},
   "outputs": [
    {
     "name": "stdout",
     "output_type": "stream",
     "text": [
      "models/gemini-1.0-pro\n",
      "models/gemini-1.0-pro-001\n",
      "models/gemini-1.0-pro-latest\n",
      "models/gemini-1.0-pro-vision-latest\n",
      "models/gemini-1.5-pro-latest\n",
      "models/gemini-pro\n",
      "models/gemini-pro-vision\n"
     ]
    }
   ],
   "source": [
    "for m in genai.list_models():\n",
    "    if 'generateContent' in m.supported_generation_methods:\n",
    "        print(m.name)"
   ]
  },
  {
   "cell_type": "code",
   "execution_count": 4,
   "metadata": {},
   "outputs": [],
   "source": [
    "generation_config = {\n",
    "    \"candidate_count\" : 1,\n",
    "    \"temperature\": 0.5,\n",
    "}"
   ]
  },
  {
   "cell_type": "code",
   "execution_count": 5,
   "metadata": {},
   "outputs": [],
   "source": [
    "safety_settings = {\n",
    "    \"HARASSMENT\": \"BLOCK_NONE\",\n",
    "    \"HATE\": \"BLOCK_NONE\",  \n",
    "    \"SEXUAL\": \"BLOCK_NONE\",   \n",
    "    \"DANGEROUS\": \"BLOCK_NONE\",\n",
    "}"
   ]
  },
  {
   "cell_type": "code",
   "execution_count": 6,
   "metadata": {},
   "outputs": [],
   "source": [
    "model = genai.GenerativeModel(model_name = \"gemini-1.0-pro\", generation_config = generation_config, safety_settings = safety_settings)"
   ]
  },
  {
   "cell_type": "code",
   "execution_count": 7,
   "metadata": {},
   "outputs": [
    {
     "name": "stdout",
     "output_type": "stream",
     "text": [
      "**Core Concepts:**\n",
      "\n",
      "* **Statistics:** Descriptive and inferential statistics, probability distributions, hypothesis testing\n",
      "* **Data Management:** Data cleaning, transformation, normalization, feature engineering\n",
      "* **Machine Learning:** Supervised and unsupervised learning, model selection, evaluation\n",
      "* **Data Visualization:** Charts, graphs, dashboards, storytelling with data\n",
      "* **Programming Languages:** Python (Pandas, NumPy, Scikit-learn), R (dplyr, ggplot2)\n",
      "\n",
      "**Tools and Technologies:**\n",
      "\n",
      "* **Data Wrangling Tools:** Pandas, R, SQL\n",
      "* **Machine Learning Libraries:** Scikit-learn, TensorFlow, Keras\n",
      "* **Data Visualization Tools:** Tableau, Power BI, Google Data Studio\n",
      "* **Cloud Platforms:** AWS, Azure, Google Cloud Platform\n",
      "\n",
      "**Specific Areas of Focus:**\n",
      "\n",
      "* **Predictive Analytics:** Forecasting, regression, classification\n",
      "* **Time Series Analysis:** Trend analysis, seasonality, forecasting\n",
      "* **Text Analytics:** Natural language processing, sentiment analysis, topic modeling\n",
      "* **Big Data Analytics:** Handling large datasets, distributed computing\n",
      "* **Data Ethics and Privacy:** Responsible use of data, data protection\n",
      "\n",
      "**Learning Resources:**\n",
      "\n",
      "* **Online Courses:** Coursera, edX, Udemy, DataCamp\n",
      "* **Books:** \"Data Analysis with Python and Pandas\" by Wes McKinney, \"Machine Learning Yearning\" by Andrew Ng\n",
      "* **Workshops and Conferences:** Industry events, hackathons\n",
      "* **Mentorship and Networking:** Connect with experienced data analysts\n",
      "\n",
      "**Additional Tips:**\n",
      "\n",
      "* **Build a Portfolio:** Showcase your projects and skills\n",
      "* **Practice Regularly:** Solve data analysis problems through coding challenges and projects\n",
      "* **Stay Updated:** Follow industry trends and advancements in data analysis\n",
      "* **Collaborate with Others:** Engage in discussions and share knowledge with fellow data analysts\n",
      "* **Seek Feedback:** Get constructive criticism from peers and mentors to improve your skills\n"
     ]
    }
   ],
   "source": [
    "response = model.generate_content(\"Learning for the data analysis area\")\n",
    "print(response.text)"
   ]
  },
  {
   "cell_type": "code",
   "execution_count": 8,
   "metadata": {},
   "outputs": [],
   "source": [
    "chat = model.start_chat(history = [])"
   ]
  },
  {
   "cell_type": "code",
   "execution_count": 9,
   "metadata": {},
   "outputs": [
    {
     "name": "stdout",
     "output_type": "stream",
     "text": [
      "Answer:  **Definition:**\n",
      "\n",
      "Big data refers to extremely large and complex datasets that are too voluminous and complex for traditional data processing tools to handle.\n",
      "\n",
      "**Characteristics:**\n",
      "\n",
      "* **Volume:** Massive amount of data, ranging from terabytes to petabytes or even exabytes.\n",
      "* **Velocity:** Data is generated and processed in real-time or near real-time.\n",
      "* **Variety:** Data comes in various formats, including structured (e.g., spreadsheets), semi-structured (e.g., JSON), and unstructured (e.g., text, images).\n",
      "* **Veracity:** Data quality and accuracy can vary, requiring data cleansing and validation.\n",
      "* **Value:** Big data has the potential to provide valuable insights and improve decision-making.\n",
      "\n",
      "**Sources:**\n",
      "\n",
      "* Social media platforms\n",
      "* Sensor networks\n",
      "* Internet of Things (IoT) devices\n",
      "* Transaction logs\n",
      "* Scientific research\n",
      "* Government data\n",
      "\n",
      "**Applications:**\n",
      "\n",
      "* **Predictive analytics:** Forecasting future events or trends based on historical data.\n",
      "* **Customer relationship management (CRM):** Personalizing customer experiences and improving marketing campaigns.\n",
      "* **Fraud detection:** Identifying suspicious transactions or activities.\n",
      "* **Healthcare:** Improving patient outcomes and developing new treatments.\n",
      "* **Financial services:** Risk assessment, portfolio optimization, and fraud prevention.\n",
      "\n",
      "**Challenges:**\n",
      "\n",
      "* **Storage and processing:** Managing and analyzing vast amounts of data requires specialized hardware and software.\n",
      "* **Data quality:** Ensuring data accuracy and completeness is crucial for reliable insights.\n",
      "* **Security:** Protecting sensitive data from unauthorized access and breaches.\n",
      "* **Skills shortage:** Finding qualified professionals with the necessary skills to work with big data.\n",
      "\n",
      "**Benefits:**\n",
      "\n",
      "* **Improved decision-making:** Data-driven insights can help organizations make informed decisions.\n",
      "* **Increased efficiency:** Automating processes and optimizing workflows based on data analysis.\n",
      "* **Innovation:** Uncovering new patterns and trends that lead to innovative products and services.\n",
      "* **Competitive advantage:** Organizations that effectively leverage big data can gain a competitive edge.\n",
      "\n",
      "**Examples:**\n",
      "\n",
      "* **Amazon:** Uses big data to personalize product recommendations and improve customer service.\n",
      "* **Netflix:** Analyzes user data to create personalized movie and TV show recommendations.\n",
      "* **Google:** Processes massive amounts of search data to provide relevant search results and improve advertising targeting.\n",
      "* **Walmart:** Uses big data to optimize inventory management and predict customer demand.\n",
      "* **NASA:** Analyzes vast amounts of satellite and telescope data to study the universe. \n",
      "\n"
     ]
    }
   ],
   "source": [
    "prompt = input(\"Type something: \")\n",
    "\n",
    "while prompt != \"close\":\n",
    "    response = chat.send_message(prompt)\n",
    "    print(\"Answer: \", response.text, \"\\n\")\n",
    "    prompt = input(\"Type something: \")"
   ]
  },
  {
   "cell_type": "code",
   "execution_count": null,
   "metadata": {},
   "outputs": [],
   "source": [
    "import textwrap\n",
    "\n",
    "from IPython.display import display\n",
    "from IPython.display import Markdown\n",
    "\n",
    "def to_markdown(text):\n",
    "    text = text.replace('✱', ' *')\n",
    "    return Markdown(textwrap.indent(text, '> ', predicate = lambda _: True))\n",
    "\n",
    "for message in chat.history:\n",
    "    display(to_markdown(f'**{message.role}**: {message.parts[0].text}'))\n",
    "    print('-------------------------------------------')"
   ]
  }
 ],
 "metadata": {
  "kernelspec": {
   "display_name": "Python 3",
   "language": "python",
   "name": "python3"
  },
  "language_info": {
   "codemirror_mode": {
    "name": "ipython",
    "version": 3
   },
   "file_extension": ".py",
   "mimetype": "text/x-python",
   "name": "python",
   "nbconvert_exporter": "python",
   "pygments_lexer": "ipython3",
   "version": "3.11.9"
  }
 },
 "nbformat": 4,
 "nbformat_minor": 2
}
